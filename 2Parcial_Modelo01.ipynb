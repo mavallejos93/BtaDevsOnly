{
  "nbformat": 4,
  "nbformat_minor": 0,
  "metadata": {
    "kernelspec": {
      "display_name": "Python 3",
      "language": "python",
      "name": "python3"
    },
    "language_info": {
      "codemirror_mode": {
        "name": "ipython",
        "version": 3
      },
      "file_extension": ".py",
      "mimetype": "text/x-python",
      "name": "python",
      "nbconvert_exporter": "python",
      "pygments_lexer": "ipython3",
      "version": "3.9.1"
    },
    "colab": {
      "name": "2Parcial_Modelo01.ipynb",
      "provenance": [],
      "collapsed_sections": [],
      "include_colab_link": true
    }
  },
  "cells": [
    {
      "cell_type": "markdown",
      "metadata": {
        "id": "view-in-github",
        "colab_type": "text"
      },
      "source": [
        "<a href=\"https://colab.research.google.com/github/mavallejos93/BtaDevsOnly/blob/master/2Parcial_Modelo01.ipynb\" target=\"_parent\"><img src=\"https://colab.research.google.com/assets/colab-badge.svg\" alt=\"Open In Colab\"/></a>"
      ]
    },
    {
      "cell_type": "markdown",
      "metadata": {
        "id": "pqQuisxywrjy"
      },
      "source": [
        "![](./img/logo.png)"
      ]
    },
    {
      "cell_type": "markdown",
      "metadata": {
        "id": "BbelWkIDwrj2"
      },
      "source": [
        "# 2do Parcial: Análisis Exploratorio de Datos. \n",
        "\n",
        "\n",
        "### Nombre Estudiante:   \n",
        "### Cédula de Ciudadanía:"
      ]
    },
    {
      "cell_type": "markdown",
      "metadata": {
        "id": "NJPlzn4jwrj5"
      },
      "source": [
        "# Modelo **01**\n",
        "\n",
        "### Descripción de Valores:\n",
        "\n",
        "    UNIQUE_ID: continuo.\n",
        "    POSITION_TITLE: ASSISTANT DIRECTOR (EX LVL), LIBRARY ASSISTANT, DEPUTY ASSISTANT DIRECTOR (EXECUTIVE LEV',\n",
        "                    POLICE OFFICER, ENGINEER/OPERATOR, ELECTRICIAN, FIRE FIGHTER,\n",
        "                    SENIOR POLICE OFFICER, ENGINEER, CARPENTER, AIRPORT OPERATIONS COORDINATOR,\n",
        "                    ASSOCIATE EMS PHYSICIAN DIRECTOR, FIELD SUPERVISOR, ....\n",
        "    DEPARTMENT: Municipal Courts Department', Library, Planning & Development, Convention and Entertainment,\n",
        "                Houston Police Department-HPD, Houston Fire Department (HFD), Mayor's Office, \n",
        "                General Services Department, Public Works & Engineering-PWE, Admn. & Regulatory Affairs,\n",
        "                Houston Airport System (HAS), Health & Human Services, Dept of Neighborhoods (DON), \n",
        "                Finance, 'Fleet Management Department, Solid Waste Management, 'Legal Department',\n",
        "                City Council, 'Human Resources Dept.', Parks & Recreation, Housing and Community Devp.,\n",
        "                Houston Emergency Center (HEC), Houston Information Tech Svcs, City Controller's Office.\n",
        "    BASE_SALARY: continuo.             \n",
        "    RACE: Hispanic/Latino, White, Black or African American, Asian/Pacific Islander,\n",
        "          American Indian or Alaskan Native, Others.\n",
        "    EMPLOYMENT_TYPE: Full Time, Part Time 30, Part Time, Temporary, HFD Deferred Term.\n",
        "    GENGER: Female, Male.\n",
        "    EMPLOYMENT_STATUS: Active, Inactive.\n",
        "    HIRE_DATE: Fecha (Año-Mes-Día).\n",
        "    JOB_DATE: Fecha (Año-Mes-Día).\n",
        "    "
      ]
    },
    {
      "cell_type": "markdown",
      "metadata": {
        "id": "lHafnVnEwrj6"
      },
      "source": [
        "## 0.- Bibliotecas y Lectura"
      ]
    },
    {
      "cell_type": "code",
      "metadata": {
        "id": "9KjrJk7Jwrj7"
      },
      "source": [
        "import pandas as pd # pandas biblioteca para la lectura y manejo de conjunto de datos\n",
        "import matplotlib.pyplot as plt # biblioteca para graficar\n",
        "import numpy as np #biblioteca para calculos numericos"
      ],
      "execution_count": null,
      "outputs": []
    },
    {
      "cell_type": "code",
      "metadata": {
        "colab": {
          "base_uri": "https://localhost:8080/",
          "height": 269
        },
        "id": "aAg85sRewrj8",
        "outputId": "542fbb0f-8488-4e01-e69e-37671c22b931"
      },
      "source": [
        "#se cargan los datos desde el fichero employes.csv\n",
        "dfEmpleados=pd.read_csv('/content/employee.csv', index_col='UNIQUE_ID')\n",
        "dfEmpleados.head()"
      ],
      "execution_count": null,
      "outputs": [
        {
          "output_type": "execute_result",
          "data": {
            "text/html": [
              "<div>\n",
              "<style scoped>\n",
              "    .dataframe tbody tr th:only-of-type {\n",
              "        vertical-align: middle;\n",
              "    }\n",
              "\n",
              "    .dataframe tbody tr th {\n",
              "        vertical-align: top;\n",
              "    }\n",
              "\n",
              "    .dataframe thead th {\n",
              "        text-align: right;\n",
              "    }\n",
              "</style>\n",
              "<table border=\"1\" class=\"dataframe\">\n",
              "  <thead>\n",
              "    <tr style=\"text-align: right;\">\n",
              "      <th></th>\n",
              "      <th>POSITION_TITLE</th>\n",
              "      <th>DEPARTMENT</th>\n",
              "      <th>BASE_SALARY</th>\n",
              "      <th>RACE</th>\n",
              "      <th>EMPLOYMENT_TYPE</th>\n",
              "      <th>GENDER</th>\n",
              "      <th>EMPLOYMENT_STATUS</th>\n",
              "      <th>HIRE_DATE</th>\n",
              "      <th>JOB_DATE</th>\n",
              "    </tr>\n",
              "    <tr>\n",
              "      <th>UNIQUE_ID</th>\n",
              "      <th></th>\n",
              "      <th></th>\n",
              "      <th></th>\n",
              "      <th></th>\n",
              "      <th></th>\n",
              "      <th></th>\n",
              "      <th></th>\n",
              "      <th></th>\n",
              "      <th></th>\n",
              "    </tr>\n",
              "  </thead>\n",
              "  <tbody>\n",
              "    <tr>\n",
              "      <th>0</th>\n",
              "      <td>ASSISTANT DIRECTOR (EX LVL)</td>\n",
              "      <td>Municipal Courts Department</td>\n",
              "      <td>121862.0</td>\n",
              "      <td>Hispanic/Latino</td>\n",
              "      <td>Full Time</td>\n",
              "      <td>Female</td>\n",
              "      <td>Active</td>\n",
              "      <td>2006-06-12</td>\n",
              "      <td>2012-10-13</td>\n",
              "    </tr>\n",
              "    <tr>\n",
              "      <th>1</th>\n",
              "      <td>LIBRARY ASSISTANT</td>\n",
              "      <td>Library</td>\n",
              "      <td>26125.0</td>\n",
              "      <td>Hispanic/Latino</td>\n",
              "      <td>Full Time</td>\n",
              "      <td>Female</td>\n",
              "      <td>Active</td>\n",
              "      <td>2000-07-19</td>\n",
              "      <td>2010-09-18</td>\n",
              "    </tr>\n",
              "    <tr>\n",
              "      <th>2</th>\n",
              "      <td>POLICE OFFICER</td>\n",
              "      <td>Houston Police Department-HPD</td>\n",
              "      <td>45279.0</td>\n",
              "      <td>White</td>\n",
              "      <td>Full Time</td>\n",
              "      <td>Male</td>\n",
              "      <td>Active</td>\n",
              "      <td>2015-02-03</td>\n",
              "      <td>2015-02-03</td>\n",
              "    </tr>\n",
              "    <tr>\n",
              "      <th>3</th>\n",
              "      <td>ENGINEER/OPERATOR</td>\n",
              "      <td>Houston Fire Department (HFD)</td>\n",
              "      <td>63166.0</td>\n",
              "      <td>White</td>\n",
              "      <td>Full Time</td>\n",
              "      <td>Male</td>\n",
              "      <td>Active</td>\n",
              "      <td>1982-02-08</td>\n",
              "      <td>1991-05-25</td>\n",
              "    </tr>\n",
              "    <tr>\n",
              "      <th>4</th>\n",
              "      <td>ELECTRICIAN</td>\n",
              "      <td>General Services Department</td>\n",
              "      <td>56347.0</td>\n",
              "      <td>White</td>\n",
              "      <td>Full Time</td>\n",
              "      <td>Male</td>\n",
              "      <td>Active</td>\n",
              "      <td>1989-06-19</td>\n",
              "      <td>1994-10-22</td>\n",
              "    </tr>\n",
              "  </tbody>\n",
              "</table>\n",
              "</div>"
            ],
            "text/plain": [
              "                        POSITION_TITLE  ...    JOB_DATE\n",
              "UNIQUE_ID                               ...            \n",
              "0          ASSISTANT DIRECTOR (EX LVL)  ...  2012-10-13\n",
              "1                    LIBRARY ASSISTANT  ...  2010-09-18\n",
              "2                       POLICE OFFICER  ...  2015-02-03\n",
              "3                    ENGINEER/OPERATOR  ...  1991-05-25\n",
              "4                          ELECTRICIAN  ...  1994-10-22\n",
              "\n",
              "[5 rows x 9 columns]"
            ]
          },
          "metadata": {},
          "execution_count": 42
        }
      ]
    },
    {
      "cell_type": "code",
      "metadata": {
        "colab": {
          "base_uri": "https://localhost:8080/"
        },
        "id": "1jEeuKDmwrj8",
        "outputId": "66cafca7-cae9-4b3c-c84a-dd46f0eb102d"
      },
      "source": [
        "# SE QUIERE SABER CUANTOS REGISTROS Y CUANTOS DATOS TIENE EL DATA FRAME (#FILAS Y COLUMNAS)\n",
        "dfEmpleados.shape\n"
      ],
      "execution_count": null,
      "outputs": [
        {
          "output_type": "execute_result",
          "data": {
            "text/plain": [
              "(2000, 9)"
            ]
          },
          "metadata": {},
          "execution_count": 43
        }
      ]
    },
    {
      "cell_type": "markdown",
      "metadata": {
        "id": "H7QqisEjwrj8"
      },
      "source": [
        "## 1.- Limpieza de los datos ( NaN)\n",
        "    - Bonus: ¿Cuantas Filas se han eliminado después de la limpieza?"
      ]
    },
    {
      "cell_type": "code",
      "metadata": {
        "colab": {
          "base_uri": "https://localhost:8080/"
        },
        "id": "fxIkLiUZwrj9",
        "outputId": "c8a545f6-e165-4b20-e603-cd3980596be1"
      },
      "source": [
        "#se revisa si existen datos desaparecidos (\"no se encuentran\"). La función info me representa la información completa de dataFrame\n",
        "dfEmpleados.info()"
      ],
      "execution_count": null,
      "outputs": [
        {
          "output_type": "stream",
          "name": "stdout",
          "text": [
            "<class 'pandas.core.frame.DataFrame'>\n",
            "Int64Index: 2000 entries, 0 to 1999\n",
            "Data columns (total 9 columns):\n",
            " #   Column             Non-Null Count  Dtype  \n",
            "---  ------             --------------  -----  \n",
            " 0   POSITION_TITLE     2000 non-null   object \n",
            " 1   DEPARTMENT         2000 non-null   object \n",
            " 2   BASE_SALARY        1886 non-null   float64\n",
            " 3   RACE               1965 non-null   object \n",
            " 4   EMPLOYMENT_TYPE    2000 non-null   object \n",
            " 5   GENDER             2000 non-null   object \n",
            " 6   EMPLOYMENT_STATUS  2000 non-null   object \n",
            " 7   HIRE_DATE          2000 non-null   object \n",
            " 8   JOB_DATE           1997 non-null   object \n",
            "dtypes: float64(1), object(8)\n",
            "memory usage: 156.2+ KB\n"
          ]
        }
      ]
    },
    {
      "cell_type": "code",
      "metadata": {
        "colab": {
          "base_uri": "https://localhost:8080/"
        },
        "id": "fvlTxj44Ajor",
        "outputId": "35de4d07-fddd-44c9-948f-7b38bdc28a67"
      },
      "source": [
        "#se quiere saber la cuenta total de datos desaparecidos\n",
        "dfEmpleados[dfEmpleados.isna().any(axis=1)].count()"
      ],
      "execution_count": null,
      "outputs": [
        {
          "output_type": "execute_result",
          "data": {
            "text/plain": [
              "POSITION_TITLE       147\n",
              "DEPARTMENT           147\n",
              "BASE_SALARY           33\n",
              "RACE                 112\n",
              "EMPLOYMENT_TYPE      147\n",
              "GENDER               147\n",
              "EMPLOYMENT_STATUS    147\n",
              "HIRE_DATE            147\n",
              "JOB_DATE             144\n",
              "dtype: int64"
            ]
          },
          "metadata": {},
          "execution_count": 45
        }
      ]
    },
    {
      "cell_type": "code",
      "metadata": {
        "colab": {
          "base_uri": "https://localhost:8080/"
        },
        "id": "D085cWLDwrj9",
        "outputId": "fe2d6ef4-8c38-4853-97e2-df664af07d67"
      },
      "source": [
        "#se procede a eliminar los registros con datos desaparecidos (NaN) dado que es dificil (implosible) recrearlos\n",
        "dfEmpleados=dfEmpleados.dropna(axis=0)\n",
        "#se revisa la nueva dimension del dataFrame\n",
        "dfEmpleados.shape"
      ],
      "execution_count": null,
      "outputs": [
        {
          "output_type": "execute_result",
          "data": {
            "text/plain": [
              "(1853, 9)"
            ]
          },
          "metadata": {},
          "execution_count": 46
        }
      ]
    },
    {
      "cell_type": "code",
      "metadata": {
        "id": "Kf70Ra5Dwrj-"
      },
      "source": [
        ""
      ],
      "execution_count": null,
      "outputs": []
    },
    {
      "cell_type": "code",
      "metadata": {
        "id": "BGcuxmYUwrj-"
      },
      "source": [
        ""
      ],
      "execution_count": null,
      "outputs": []
    },
    {
      "cell_type": "markdown",
      "metadata": {
        "id": "ryz-jgZVwrj-"
      },
      "source": [
        "## 2.- ¿Cuál es el promedio de BASE_SALARY? \n",
        "    - Agregue una nueva columna 'SALARY' con valores '<= valor promedio', '> valor promedio'\n",
        "      Ejemplo: si el promedio es 34540, entonces la columna ['SALARY'] tendra dos valores ['<= 34k', '>34k']\n",
        "    - Elimine la columna BASE_SALARY"
      ]
    },
    {
      "cell_type": "markdown",
      "metadata": {
        "id": "Jwt-hGfPwrj_"
      },
      "source": [
        "<img src=\"./img/grafi02.png\">"
      ]
    },
    {
      "cell_type": "code",
      "metadata": {
        "colab": {
          "base_uri": "https://localhost:8080/",
          "height": 297
        },
        "id": "HeVyGxB8wrkA",
        "outputId": "aef62451-f051-4e28-9aca-fd82dbe3ac92"
      },
      "source": [
        "#se presenta la información estadistica del DF completa (todos los datos)\n",
        "dfEmpleados.describe()"
      ],
      "execution_count": null,
      "outputs": [
        {
          "output_type": "execute_result",
          "data": {
            "text/html": [
              "<div>\n",
              "<style scoped>\n",
              "    .dataframe tbody tr th:only-of-type {\n",
              "        vertical-align: middle;\n",
              "    }\n",
              "\n",
              "    .dataframe tbody tr th {\n",
              "        vertical-align: top;\n",
              "    }\n",
              "\n",
              "    .dataframe thead th {\n",
              "        text-align: right;\n",
              "    }\n",
              "</style>\n",
              "<table border=\"1\" class=\"dataframe\">\n",
              "  <thead>\n",
              "    <tr style=\"text-align: right;\">\n",
              "      <th></th>\n",
              "      <th>BASE_SALARY</th>\n",
              "    </tr>\n",
              "  </thead>\n",
              "  <tbody>\n",
              "    <tr>\n",
              "      <th>count</th>\n",
              "      <td>1853.000000</td>\n",
              "    </tr>\n",
              "    <tr>\n",
              "      <th>mean</th>\n",
              "      <td>56085.907717</td>\n",
              "    </tr>\n",
              "    <tr>\n",
              "      <th>std</th>\n",
              "      <td>21692.001274</td>\n",
              "    </tr>\n",
              "    <tr>\n",
              "      <th>min</th>\n",
              "      <td>24960.000000</td>\n",
              "    </tr>\n",
              "    <tr>\n",
              "      <th>25%</th>\n",
              "      <td>40186.000000</td>\n",
              "    </tr>\n",
              "    <tr>\n",
              "      <th>50%</th>\n",
              "      <td>54857.000000</td>\n",
              "    </tr>\n",
              "    <tr>\n",
              "      <th>75%</th>\n",
              "      <td>66614.000000</td>\n",
              "    </tr>\n",
              "    <tr>\n",
              "      <th>max</th>\n",
              "      <td>275000.000000</td>\n",
              "    </tr>\n",
              "  </tbody>\n",
              "</table>\n",
              "</div>"
            ],
            "text/plain": [
              "         BASE_SALARY\n",
              "count    1853.000000\n",
              "mean    56085.907717\n",
              "std     21692.001274\n",
              "min     24960.000000\n",
              "25%     40186.000000\n",
              "50%     54857.000000\n",
              "75%     66614.000000\n",
              "max    275000.000000"
            ]
          },
          "metadata": {},
          "execution_count": 47
        }
      ]
    },
    {
      "cell_type": "markdown",
      "metadata": {
        "id": "H1vQIq4LKGfl"
      },
      "source": [
        "# La respuesta al promedio de BASE_SALARY es igual **56085.907717**"
      ]
    },
    {
      "cell_type": "code",
      "metadata": {
        "colab": {
          "base_uri": "https://localhost:8080/"
        },
        "id": "KUHKt3XnwrkB",
        "outputId": "32267bbc-0a70-4e9c-ba3d-72198f2ec7b0"
      },
      "source": [
        "print(\"El promedio BASE_SALARY es: ${} \".format(dfEmpleados['BASE_SALARY'].mean()))"
      ],
      "execution_count": null,
      "outputs": [
        {
          "output_type": "stream",
          "name": "stdout",
          "text": [
            "El promedio BASE_SALARY es: $56085.90771721533 \n"
          ]
        }
      ]
    },
    {
      "cell_type": "code",
      "metadata": {
        "colab": {
          "base_uri": "https://localhost:8080/",
          "height": 235
        },
        "id": "1qccCxABwrkB",
        "outputId": "6d5a840f-e03d-4ace-fa83-7d4294aac7ee"
      },
      "source": [
        "#Se crea la columna SALARY la cual presentara solo 2 datos: <=56K ó >56k\n",
        "dfEmpleados['SALARY'] = dfEmpleados['BASE_SALARY'].apply(lambda x: '<=56k' if x <= 56085.90 else '>56k')\n",
        "#se elimina la colmna BASE_SALARY\n",
        "#dfEmpleados = dfEmpleados.drop(['BASE_SALARY'], axis = 1)\n",
        "dfEmpleados.drop(['BASE_SALARY'], axis = 1, inplace = True)\n",
        "dfEmpleados.head()"
      ],
      "execution_count": null,
      "outputs": [
        {
          "output_type": "execute_result",
          "data": {
            "text/html": [
              "<div>\n",
              "<style scoped>\n",
              "    .dataframe tbody tr th:only-of-type {\n",
              "        vertical-align: middle;\n",
              "    }\n",
              "\n",
              "    .dataframe tbody tr th {\n",
              "        vertical-align: top;\n",
              "    }\n",
              "\n",
              "    .dataframe thead th {\n",
              "        text-align: right;\n",
              "    }\n",
              "</style>\n",
              "<table border=\"1\" class=\"dataframe\">\n",
              "  <thead>\n",
              "    <tr style=\"text-align: right;\">\n",
              "      <th></th>\n",
              "      <th>POSITION_TITLE</th>\n",
              "      <th>DEPARTMENT</th>\n",
              "      <th>RACE</th>\n",
              "      <th>EMPLOYMENT_TYPE</th>\n",
              "      <th>GENDER</th>\n",
              "      <th>EMPLOYMENT_STATUS</th>\n",
              "      <th>HIRE_DATE</th>\n",
              "      <th>JOB_DATE</th>\n",
              "      <th>SALARY</th>\n",
              "    </tr>\n",
              "    <tr>\n",
              "      <th>UNIQUE_ID</th>\n",
              "      <th></th>\n",
              "      <th></th>\n",
              "      <th></th>\n",
              "      <th></th>\n",
              "      <th></th>\n",
              "      <th></th>\n",
              "      <th></th>\n",
              "      <th></th>\n",
              "      <th></th>\n",
              "    </tr>\n",
              "  </thead>\n",
              "  <tbody>\n",
              "    <tr>\n",
              "      <th>0</th>\n",
              "      <td>ASSISTANT DIRECTOR (EX LVL)</td>\n",
              "      <td>Municipal Courts Department</td>\n",
              "      <td>Hispanic/Latino</td>\n",
              "      <td>Full Time</td>\n",
              "      <td>Female</td>\n",
              "      <td>Active</td>\n",
              "      <td>2006-06-12</td>\n",
              "      <td>2012-10-13</td>\n",
              "      <td>&gt;56k</td>\n",
              "    </tr>\n",
              "    <tr>\n",
              "      <th>1</th>\n",
              "      <td>LIBRARY ASSISTANT</td>\n",
              "      <td>Library</td>\n",
              "      <td>Hispanic/Latino</td>\n",
              "      <td>Full Time</td>\n",
              "      <td>Female</td>\n",
              "      <td>Active</td>\n",
              "      <td>2000-07-19</td>\n",
              "      <td>2010-09-18</td>\n",
              "      <td>&lt;=56k</td>\n",
              "    </tr>\n",
              "    <tr>\n",
              "      <th>2</th>\n",
              "      <td>POLICE OFFICER</td>\n",
              "      <td>Houston Police Department-HPD</td>\n",
              "      <td>White</td>\n",
              "      <td>Full Time</td>\n",
              "      <td>Male</td>\n",
              "      <td>Active</td>\n",
              "      <td>2015-02-03</td>\n",
              "      <td>2015-02-03</td>\n",
              "      <td>&lt;=56k</td>\n",
              "    </tr>\n",
              "    <tr>\n",
              "      <th>3</th>\n",
              "      <td>ENGINEER/OPERATOR</td>\n",
              "      <td>Houston Fire Department (HFD)</td>\n",
              "      <td>White</td>\n",
              "      <td>Full Time</td>\n",
              "      <td>Male</td>\n",
              "      <td>Active</td>\n",
              "      <td>1982-02-08</td>\n",
              "      <td>1991-05-25</td>\n",
              "      <td>&gt;56k</td>\n",
              "    </tr>\n",
              "    <tr>\n",
              "      <th>4</th>\n",
              "      <td>ELECTRICIAN</td>\n",
              "      <td>General Services Department</td>\n",
              "      <td>White</td>\n",
              "      <td>Full Time</td>\n",
              "      <td>Male</td>\n",
              "      <td>Active</td>\n",
              "      <td>1989-06-19</td>\n",
              "      <td>1994-10-22</td>\n",
              "      <td>&gt;56k</td>\n",
              "    </tr>\n",
              "  </tbody>\n",
              "</table>\n",
              "</div>"
            ],
            "text/plain": [
              "                        POSITION_TITLE  ... SALARY\n",
              "UNIQUE_ID                               ...       \n",
              "0          ASSISTANT DIRECTOR (EX LVL)  ...   >56k\n",
              "1                    LIBRARY ASSISTANT  ...  <=56k\n",
              "2                       POLICE OFFICER  ...  <=56k\n",
              "3                    ENGINEER/OPERATOR  ...   >56k\n",
              "4                          ELECTRICIAN  ...   >56k\n",
              "\n",
              "[5 rows x 9 columns]"
            ]
          },
          "metadata": {},
          "execution_count": 49
        }
      ]
    },
    {
      "cell_type": "code",
      "metadata": {
        "colab": {
          "base_uri": "https://localhost:8080/",
          "height": 320
        },
        "id": "u5YVclcQTPk5",
        "outputId": "bdff5abf-1569-4750-a055-4b82ee8f07db"
      },
      "source": [
        "#se quiere observar los ultimos 5 registros del dataframe\n",
        "dfEmpleados.tail()"
      ],
      "execution_count": null,
      "outputs": [
        {
          "output_type": "execute_result",
          "data": {
            "text/html": [
              "<div>\n",
              "<style scoped>\n",
              "    .dataframe tbody tr th:only-of-type {\n",
              "        vertical-align: middle;\n",
              "    }\n",
              "\n",
              "    .dataframe tbody tr th {\n",
              "        vertical-align: top;\n",
              "    }\n",
              "\n",
              "    .dataframe thead th {\n",
              "        text-align: right;\n",
              "    }\n",
              "</style>\n",
              "<table border=\"1\" class=\"dataframe\">\n",
              "  <thead>\n",
              "    <tr style=\"text-align: right;\">\n",
              "      <th></th>\n",
              "      <th>POSITION_TITLE</th>\n",
              "      <th>DEPARTMENT</th>\n",
              "      <th>RACE</th>\n",
              "      <th>EMPLOYMENT_TYPE</th>\n",
              "      <th>GENDER</th>\n",
              "      <th>EMPLOYMENT_STATUS</th>\n",
              "      <th>HIRE_DATE</th>\n",
              "      <th>JOB_DATE</th>\n",
              "      <th>SALARY</th>\n",
              "    </tr>\n",
              "    <tr>\n",
              "      <th>UNIQUE_ID</th>\n",
              "      <th></th>\n",
              "      <th></th>\n",
              "      <th></th>\n",
              "      <th></th>\n",
              "      <th></th>\n",
              "      <th></th>\n",
              "      <th></th>\n",
              "      <th></th>\n",
              "      <th></th>\n",
              "    </tr>\n",
              "  </thead>\n",
              "  <tbody>\n",
              "    <tr>\n",
              "      <th>1995</th>\n",
              "      <td>POLICE OFFICER</td>\n",
              "      <td>Houston Police Department-HPD</td>\n",
              "      <td>White</td>\n",
              "      <td>Full Time</td>\n",
              "      <td>Male</td>\n",
              "      <td>Active</td>\n",
              "      <td>2014-06-09</td>\n",
              "      <td>2015-06-09</td>\n",
              "      <td>&lt;=56k</td>\n",
              "    </tr>\n",
              "    <tr>\n",
              "      <th>1996</th>\n",
              "      <td>COMMUNICATIONS CAPTAIN</td>\n",
              "      <td>Houston Fire Department (HFD)</td>\n",
              "      <td>Black or African American</td>\n",
              "      <td>Full Time</td>\n",
              "      <td>Male</td>\n",
              "      <td>Active</td>\n",
              "      <td>2003-09-02</td>\n",
              "      <td>2013-10-06</td>\n",
              "      <td>&gt;56k</td>\n",
              "    </tr>\n",
              "    <tr>\n",
              "      <th>1997</th>\n",
              "      <td>POLICE OFFICER</td>\n",
              "      <td>Houston Police Department-HPD</td>\n",
              "      <td>White</td>\n",
              "      <td>Full Time</td>\n",
              "      <td>Male</td>\n",
              "      <td>Active</td>\n",
              "      <td>2014-10-13</td>\n",
              "      <td>2015-10-13</td>\n",
              "      <td>&lt;=56k</td>\n",
              "    </tr>\n",
              "    <tr>\n",
              "      <th>1998</th>\n",
              "      <td>POLICE OFFICER</td>\n",
              "      <td>Houston Police Department-HPD</td>\n",
              "      <td>Asian/Pacific Islander</td>\n",
              "      <td>Full Time</td>\n",
              "      <td>Male</td>\n",
              "      <td>Active</td>\n",
              "      <td>2009-01-20</td>\n",
              "      <td>2011-07-02</td>\n",
              "      <td>&lt;=56k</td>\n",
              "    </tr>\n",
              "    <tr>\n",
              "      <th>1999</th>\n",
              "      <td>FIRE FIGHTER</td>\n",
              "      <td>Houston Fire Department (HFD)</td>\n",
              "      <td>Hispanic/Latino</td>\n",
              "      <td>Full Time</td>\n",
              "      <td>Male</td>\n",
              "      <td>Active</td>\n",
              "      <td>2009-01-12</td>\n",
              "      <td>2010-07-12</td>\n",
              "      <td>&lt;=56k</td>\n",
              "    </tr>\n",
              "  </tbody>\n",
              "</table>\n",
              "</div>"
            ],
            "text/plain": [
              "                   POSITION_TITLE  ... SALARY\n",
              "UNIQUE_ID                          ...       \n",
              "1995               POLICE OFFICER  ...  <=56k\n",
              "1996       COMMUNICATIONS CAPTAIN  ...   >56k\n",
              "1997               POLICE OFFICER  ...  <=56k\n",
              "1998               POLICE OFFICER  ...  <=56k\n",
              "1999                 FIRE FIGHTER  ...  <=56k\n",
              "\n",
              "[5 rows x 9 columns]"
            ]
          },
          "metadata": {},
          "execution_count": 50
        }
      ]
    },
    {
      "cell_type": "markdown",
      "metadata": {
        "id": "AsVQ9tUrwrkC"
      },
      "source": [
        "## 3.- Añada una columna ['TOTAL_TIME_YEARS'] = ['JOB_DATE'] - ['HIRE_DATE']\n",
        "        - Recuerde que son columnas formato FECHA (pd.to_datetime) \n",
        "        - Elimine las columnas ['JOB_DATE'], ['HIRE_DATE']"
      ]
    },
    {
      "cell_type": "markdown",
      "metadata": {
        "id": "OcYh4cTZwrkD"
      },
      "source": [
        "<img src=\"./img/grafi032.png\">"
      ]
    },
    {
      "cell_type": "code",
      "metadata": {
        "colab": {
          "base_uri": "https://localhost:8080/"
        },
        "id": "QM00g_xtwrkG",
        "outputId": "eaba156f-09f6-4b5b-c249-17a814cc660d"
      },
      "source": [
        "#Se revisa el formato de dato de las columnas ['JOB_DATE'], ['HIRE_DATE']\n",
        "dfEmpleados.info()"
      ],
      "execution_count": null,
      "outputs": [
        {
          "output_type": "stream",
          "name": "stdout",
          "text": [
            "<class 'pandas.core.frame.DataFrame'>\n",
            "Int64Index: 1853 entries, 0 to 1999\n",
            "Data columns (total 9 columns):\n",
            " #   Column             Non-Null Count  Dtype \n",
            "---  ------             --------------  ----- \n",
            " 0   POSITION_TITLE     1853 non-null   object\n",
            " 1   DEPARTMENT         1853 non-null   object\n",
            " 2   RACE               1853 non-null   object\n",
            " 3   EMPLOYMENT_TYPE    1853 non-null   object\n",
            " 4   GENDER             1853 non-null   object\n",
            " 5   EMPLOYMENT_STATUS  1853 non-null   object\n",
            " 6   HIRE_DATE          1853 non-null   object\n",
            " 7   JOB_DATE           1853 non-null   object\n",
            " 8   SALARY             1853 non-null   object\n",
            "dtypes: object(9)\n",
            "memory usage: 144.8+ KB\n"
          ]
        }
      ]
    },
    {
      "cell_type": "code",
      "metadata": {
        "colab": {
          "base_uri": "https://localhost:8080/"
        },
        "id": "fc1ljN97wrkH",
        "outputId": "233af165-7268-4070-cadf-8def9309eebe"
      },
      "source": [
        "#se observa que las dos columnas son del tipo objeto, y para poder hacer operaciones \n",
        "#aritmeticas en el tiempo se deben pasar a formato de tiempo ambas columnas\n",
        "dfEmpleados['HIRE_DATE'] = pd.to_datetime(dfEmpleados['HIRE_DATE'], dayfirst=True, errors='coerce')\n",
        "dfEmpleados['JOB_DATE'] = pd.to_datetime(dfEmpleados['JOB_DATE'], dayfirst=True, errors='coerce')\n",
        "#se revisa si ha pasado la variable de object a date\n",
        "dfEmpleados.info()"
      ],
      "execution_count": null,
      "outputs": [
        {
          "output_type": "stream",
          "name": "stdout",
          "text": [
            "<class 'pandas.core.frame.DataFrame'>\n",
            "Int64Index: 1853 entries, 0 to 1999\n",
            "Data columns (total 9 columns):\n",
            " #   Column             Non-Null Count  Dtype         \n",
            "---  ------             --------------  -----         \n",
            " 0   POSITION_TITLE     1853 non-null   object        \n",
            " 1   DEPARTMENT         1853 non-null   object        \n",
            " 2   RACE               1853 non-null   object        \n",
            " 3   EMPLOYMENT_TYPE    1853 non-null   object        \n",
            " 4   GENDER             1853 non-null   object        \n",
            " 5   EMPLOYMENT_STATUS  1853 non-null   object        \n",
            " 6   HIRE_DATE          1853 non-null   datetime64[ns]\n",
            " 7   JOB_DATE           1853 non-null   datetime64[ns]\n",
            " 8   SALARY             1853 non-null   object        \n",
            "dtypes: datetime64[ns](2), object(7)\n",
            "memory usage: 144.8+ KB\n"
          ]
        }
      ]
    },
    {
      "cell_type": "code",
      "metadata": {
        "colab": {
          "base_uri": "https://localhost:8080/",
          "height": 235
        },
        "id": "ZrK8qb1xwrkI",
        "outputId": "9624d4cb-46c3-46fa-b648-efba5a9b1776"
      },
      "source": [
        "#se crea la nueva columna ['TOTAL_TIME_YEARS'] que es el resultado de la sustracción de ['JOB_DATE'] - ['HIRE_DATE']\n",
        "dfEmpleados['TOTAL_TIME_YEARS'] = dfEmpleados['JOB_DATE'].sub(dfEmpleados['HIRE_DATE'], axis = 0)\n",
        "#se pasara la diferencia a años trabajados\n",
        "dfEmpleados['TOTAL_TIME_YEARS'] = (dfEmpleados['TOTAL_TIME_YEARS']/np.timedelta64(1, 'D'))/365\n",
        "#eliminamos las columnas ['JOB_DATE'] - ['HIRE_DATE']\n",
        "dfEmpleados = dfEmpleados.drop(['JOB_DATE','HIRE_DATE'], axis='columns')\n",
        "dfEmpleados.head()"
      ],
      "execution_count": null,
      "outputs": [
        {
          "output_type": "execute_result",
          "data": {
            "text/html": [
              "<div>\n",
              "<style scoped>\n",
              "    .dataframe tbody tr th:only-of-type {\n",
              "        vertical-align: middle;\n",
              "    }\n",
              "\n",
              "    .dataframe tbody tr th {\n",
              "        vertical-align: top;\n",
              "    }\n",
              "\n",
              "    .dataframe thead th {\n",
              "        text-align: right;\n",
              "    }\n",
              "</style>\n",
              "<table border=\"1\" class=\"dataframe\">\n",
              "  <thead>\n",
              "    <tr style=\"text-align: right;\">\n",
              "      <th></th>\n",
              "      <th>POSITION_TITLE</th>\n",
              "      <th>DEPARTMENT</th>\n",
              "      <th>RACE</th>\n",
              "      <th>EMPLOYMENT_TYPE</th>\n",
              "      <th>GENDER</th>\n",
              "      <th>EMPLOYMENT_STATUS</th>\n",
              "      <th>SALARY</th>\n",
              "      <th>TOTAL_TIME_YEARS</th>\n",
              "    </tr>\n",
              "    <tr>\n",
              "      <th>UNIQUE_ID</th>\n",
              "      <th></th>\n",
              "      <th></th>\n",
              "      <th></th>\n",
              "      <th></th>\n",
              "      <th></th>\n",
              "      <th></th>\n",
              "      <th></th>\n",
              "      <th></th>\n",
              "    </tr>\n",
              "  </thead>\n",
              "  <tbody>\n",
              "    <tr>\n",
              "      <th>0</th>\n",
              "      <td>ASSISTANT DIRECTOR (EX LVL)</td>\n",
              "      <td>Municipal Courts Department</td>\n",
              "      <td>Hispanic/Latino</td>\n",
              "      <td>Full Time</td>\n",
              "      <td>Female</td>\n",
              "      <td>Active</td>\n",
              "      <td>&gt;56k</td>\n",
              "      <td>6.342466</td>\n",
              "    </tr>\n",
              "    <tr>\n",
              "      <th>1</th>\n",
              "      <td>LIBRARY ASSISTANT</td>\n",
              "      <td>Library</td>\n",
              "      <td>Hispanic/Latino</td>\n",
              "      <td>Full Time</td>\n",
              "      <td>Female</td>\n",
              "      <td>Active</td>\n",
              "      <td>&lt;=56k</td>\n",
              "      <td>10.172603</td>\n",
              "    </tr>\n",
              "    <tr>\n",
              "      <th>2</th>\n",
              "      <td>POLICE OFFICER</td>\n",
              "      <td>Houston Police Department-HPD</td>\n",
              "      <td>White</td>\n",
              "      <td>Full Time</td>\n",
              "      <td>Male</td>\n",
              "      <td>Active</td>\n",
              "      <td>&lt;=56k</td>\n",
              "      <td>0.000000</td>\n",
              "    </tr>\n",
              "    <tr>\n",
              "      <th>3</th>\n",
              "      <td>ENGINEER/OPERATOR</td>\n",
              "      <td>Houston Fire Department (HFD)</td>\n",
              "      <td>White</td>\n",
              "      <td>Full Time</td>\n",
              "      <td>Male</td>\n",
              "      <td>Active</td>\n",
              "      <td>&gt;56k</td>\n",
              "      <td>9.295890</td>\n",
              "    </tr>\n",
              "    <tr>\n",
              "      <th>4</th>\n",
              "      <td>ELECTRICIAN</td>\n",
              "      <td>General Services Department</td>\n",
              "      <td>White</td>\n",
              "      <td>Full Time</td>\n",
              "      <td>Male</td>\n",
              "      <td>Active</td>\n",
              "      <td>&gt;56k</td>\n",
              "      <td>5.345205</td>\n",
              "    </tr>\n",
              "  </tbody>\n",
              "</table>\n",
              "</div>"
            ],
            "text/plain": [
              "                        POSITION_TITLE  ... TOTAL_TIME_YEARS\n",
              "UNIQUE_ID                               ...                 \n",
              "0          ASSISTANT DIRECTOR (EX LVL)  ...         6.342466\n",
              "1                    LIBRARY ASSISTANT  ...        10.172603\n",
              "2                       POLICE OFFICER  ...         0.000000\n",
              "3                    ENGINEER/OPERATOR  ...         9.295890\n",
              "4                          ELECTRICIAN  ...         5.345205\n",
              "\n",
              "[5 rows x 8 columns]"
            ]
          },
          "metadata": {},
          "execution_count": 54
        }
      ]
    },
    {
      "cell_type": "markdown",
      "metadata": {
        "id": "nAEpBzeDwrkJ"
      },
      "source": [
        "## 4.- Elabore una gráfica que presente la cantidad de años trabajados del Empleado por raza y por Genero\n",
        "      - ['TOTAL_TIME_YEARS'] ['RACE'] ['GENDER']"
      ]
    },
    {
      "cell_type": "markdown",
      "metadata": {
        "id": "5zETtF8BwrkL"
      },
      "source": [
        "<img src=\"./img/grafi.png\" style=\"width:450px\">"
      ]
    },
    {
      "cell_type": "code",
      "metadata": {
        "colab": {
          "base_uri": "https://localhost:8080/",
          "height": 312
        },
        "id": "J5sUQPghwrkL",
        "outputId": "bf332fde-208e-4be6-cbdb-439833575e80"
      },
      "source": [
        "dfGraica04 = dfEmpleados.groupby(['RACE', 'GENDER'], sort = False)['TOTAL_TIME_YEARS'].mean().unstack('GENDER')\n",
        "dfGraica04.plot(kind = 'bar', figsize = (16, 4), rot = 0, title = \"años trabajados por raza y genero\", cmap = 'Set3', width = 0.8)"
      ],
      "execution_count": null,
      "outputs": [
        {
          "output_type": "execute_result",
          "data": {
            "text/plain": [
              "<matplotlib.axes._subplots.AxesSubplot at 0x7f1081517d50>"
            ]
          },
          "metadata": {},
          "execution_count": 61
        },
        {
          "output_type": "display_data",
          "data": {
            "image/png": "[encoded data removed]",
            "text/plain": [
              "<Figure size 1152x288 with 1 Axes>"
            ]
          },
          "metadata": {
            "needs_background": "light"
          }
        }
      ]
    },
    {
      "cell_type": "code",
      "metadata": {
        "id": "JIkB5LbywrkM"
      },
      "source": [
        ""
      ],
      "execution_count": null,
      "outputs": []
    },
    {
      "cell_type": "code",
      "metadata": {
        "id": "kTjhCe-SwrkM"
      },
      "source": [
        ""
      ],
      "execution_count": null,
      "outputs": []
    },
    {
      "cell_type": "markdown",
      "metadata": {
        "id": "plxHbSD7wrkN"
      },
      "source": [
        "## 5.- ¿Cuántos hombres y mujeres ['GENDER'] están representados en el DataFrame?"
      ]
    },
    {
      "cell_type": "code",
      "metadata": {
        "colab": {
          "base_uri": "https://localhost:8080/"
        },
        "id": "NTVaDAE7wrkN",
        "outputId": "03f5774f-6edc-427a-99df-49ff10783eeb"
      },
      "source": [
        "dfEmpleados['GENDER'].value_counts()"
      ],
      "execution_count": null,
      "outputs": [
        {
          "output_type": "execute_result",
          "data": {
            "text/plain": [
              "Male      1288\n",
              "Female     565\n",
              "Name: GENDER, dtype: int64"
            ]
          },
          "metadata": {},
          "execution_count": 63
        }
      ]
    },
    {
      "cell_type": "code",
      "metadata": {
        "id": "pv-e4ETSwrkO"
      },
      "source": [
        ""
      ],
      "execution_count": null,
      "outputs": []
    },
    {
      "cell_type": "markdown",
      "metadata": {
        "id": "Nh_oIzJmwrkP"
      },
      "source": [
        "## 6.- ¿Cuál es el tiempo promedio ['TOTAL_TIME_YEARS']? \n",
        "        - ¿Tiempo Promedio de las mujeres?\n",
        "        - ¿Tiempo Promedio de los hombres?"
      ]
    },
    {
      "cell_type": "code",
      "metadata": {
        "colab": {
          "base_uri": "https://localhost:8080/"
        },
        "id": "t5wN8h0PwrkP",
        "outputId": "db011071-1549-42c5-a958-ffe69e0477bb"
      },
      "source": [
        "dfEmpleados['TOTAL_TIME_YEARS'].describe()\n"
      ],
      "execution_count": null,
      "outputs": [
        {
          "output_type": "execute_result",
          "data": {
            "text/plain": [
              "count    1853.000000\n",
              "mean        6.871864\n",
              "std         7.500403\n",
              "min        -9.142466\n",
              "25%         0.857534\n",
              "50%         4.002740\n",
              "75%        12.498630\n",
              "max        35.895890\n",
              "Name: TOTAL_TIME_YEARS, dtype: float64"
            ]
          },
          "metadata": {},
          "execution_count": 64
        }
      ]
    },
    {
      "cell_type": "code",
      "metadata": {
        "colab": {
          "base_uri": "https://localhost:8080/"
        },
        "id": "6qoGEWO7wrkQ",
        "outputId": "a87fa0d6-fef0-4c4a-c628-d7e66f5903d6"
      },
      "source": [
        "dfEmpleados.loc[dfEmpleados['GENDER'] == 'Female', 'TOTAL_TIME_YEARS'].mean()\n"
      ],
      "execution_count": null,
      "outputs": [
        {
          "output_type": "execute_result",
          "data": {
            "text/plain": [
              "6.8176360771002535"
            ]
          },
          "metadata": {},
          "execution_count": 66
        }
      ]
    },
    {
      "cell_type": "code",
      "metadata": {
        "colab": {
          "base_uri": "https://localhost:8080/"
        },
        "id": "FmkYXqq0wrkV",
        "outputId": "43534748-08c5-4090-cb28-d3aca893ff30"
      },
      "source": [
        "dfEmpleados.loc[dfEmpleados['GENDER'] == 'Male', 'TOTAL_TIME_YEARS'].mean()"
      ],
      "execution_count": null,
      "outputs": [
        {
          "output_type": "execute_result",
          "data": {
            "text/plain": [
              "6.895652173913034"
            ]
          },
          "metadata": {},
          "execution_count": 67
        }
      ]
    },
    {
      "cell_type": "markdown",
      "metadata": {
        "id": "k43jBdlvwrkW"
      },
      "source": [
        "## 7.-  ¿Cuál es la proporción de empleados Hispanic/Latinos ['RACE']?\n",
        "    - Bonus--> ¿Cuál es la proporción de Mujeres en el total del grupo de Hipanic/Latino"
      ]
    },
    {
      "cell_type": "code",
      "metadata": {
        "id": "7uCXJoaTwrkX"
      },
      "source": [
        ""
      ],
      "execution_count": null,
      "outputs": []
    },
    {
      "cell_type": "code",
      "metadata": {
        "id": "5hwIxTt1wrkX"
      },
      "source": [
        ""
      ],
      "execution_count": null,
      "outputs": []
    },
    {
      "cell_type": "code",
      "metadata": {
        "id": "vTWyTZhrwrkX"
      },
      "source": [
        ""
      ],
      "execution_count": null,
      "outputs": []
    },
    {
      "cell_type": "markdown",
      "metadata": {
        "id": "M_GbpJBxwrkX"
      },
      "source": [
        "## 8.- ¿Cuantos 'POLICE OFFICER' tienen salario por encima del promedio del salario?\n",
        "    - Bonus--> ¿Cuantos 'POLICE OFFICER' son mujeres y cuantos hombres?"
      ]
    },
    {
      "cell_type": "code",
      "metadata": {
        "id": "rTLkLqqewrkY"
      },
      "source": [
        ""
      ],
      "execution_count": null,
      "outputs": []
    },
    {
      "cell_type": "code",
      "metadata": {
        "id": "uEdw71evwrkY"
      },
      "source": [
        ""
      ],
      "execution_count": null,
      "outputs": []
    },
    {
      "cell_type": "code",
      "metadata": {
        "id": "3A4rNTkVwrkY"
      },
      "source": [
        ""
      ],
      "execution_count": null,
      "outputs": []
    },
    {
      "cell_type": "markdown",
      "metadata": {
        "id": "YuElTEXiwrkY"
      },
      "source": [
        "## 9.- Presente los 2 empleados con más tiempo ['TOTAL_TIME_YEARS'] en el dataframe."
      ]
    },
    {
      "cell_type": "code",
      "metadata": {
        "id": "XoDb433_wrkZ"
      },
      "source": [
        ""
      ],
      "execution_count": null,
      "outputs": []
    },
    {
      "cell_type": "code",
      "metadata": {
        "id": "SkL1ValIwrkZ"
      },
      "source": [
        ""
      ],
      "execution_count": null,
      "outputs": []
    },
    {
      "cell_type": "code",
      "metadata": {
        "id": "kDKuQI7awrkZ"
      },
      "source": [
        ""
      ],
      "execution_count": null,
      "outputs": []
    }
  ]
}